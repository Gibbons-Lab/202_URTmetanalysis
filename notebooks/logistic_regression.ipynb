{
 "cells": [
  {
   "cell_type": "markdown",
   "id": "6b382fd4-2c65-4cb2-8db5-12c562def5be",
   "metadata": {},
   "source": [
    "# Case vs. Control Analysis\n",
    "In this notebook we'll use logistic regression to examine differences in taxonomic composition between cases and controls, conducted on a per-study basis to account for covariates. Here, we hope to uncover URT microbiome-based |associations that can be causative or preventative of respiratory diseases.\n",
    "____\n"
   ]
  },
  {
   "cell_type": "code",
   "execution_count": null,
   "id": "325703b8-6fc4-48f8-977a-ba23e3ca2458",
   "metadata": {},
   "outputs": [],
   "source": [
    "import pandas as pd\n",
    "import os\n",
    "import statsmodels.formula.api as smf\n",
    "import seaborn as sns\n",
    "import scipy\n",
    "import statsmodels as sm\n",
    "import matplotlib.pyplot as plt\n",
    "from utils import *\n",
    "from matplotlib.font_manager import FontProperties\n",
    "\n",
    "\n",
    "%matplotlib inline"
   ]
  },
  {
   "cell_type": "markdown",
   "id": "3fc9fa20-c84f-48c7-abbc-30eff7715aab",
   "metadata": {},
   "source": [
    "## Collect Reads\n",
    "First, load the merged table constructed earlier"
   ]
  },
  {
   "cell_type": "code",
   "execution_count": null,
   "id": "67fe1bea-8ada-45d6-b5cd-4531fa100008",
   "metadata": {},
   "outputs": [],
   "source": [
    "merged_table = pd.read_csv('../data/merged_table.csv')"
   ]
  },
  {
   "cell_type": "markdown",
   "id": "6c6ad454-f0e2-4424-b7c2-de37a5c3f4d9",
   "metadata": {},
   "source": [
    "## Specify Color Encoding\n",
    "Import the disease-specific color dictionary we've been using "
   ]
  },
  {
   "cell_type": "code",
   "execution_count": null,
   "id": "406ec6a7-73b2-4f24-8753-b78d2927dbce",
   "metadata": {},
   "outputs": [],
   "source": [
    "color_dict = {'Asthma':'#a6cee3',\n",
    "              'COVID-19':'#1f78b4', \n",
    "              'Influenza':'#b2df8a',\n",
    "              'Pneumonia':'#33a02c',\n",
    "              'RSV':'#fb9a99',\n",
    "              'RTI':'#e31a1c',\n",
    "              'Resp. Allergies':'#fdbf6f',\n",
    "              'Rhinosinusitis':'#ff7f00',\n",
    "              'COPD':'#cab2d6',\n",
    "              'Tonsillitis':'#6a3d9a'}"
   ]
  },
  {
   "cell_type": "markdown",
   "id": "b496f8d0-b70d-4b8e-8c55-38d30719dae7",
   "metadata": {},
   "source": [
    "## Per-Study Case vs. Control Logistic Regression\n",
    "Using logistic regression, find associations between taxon abundance and case/control status. This is done on a per-study basis to remove biases from covariates."
   ]
  },
  {
   "cell_type": "code",
   "execution_count": null,
   "id": "cdf4f39a-665e-4486-994a-d7bc626ffd3f",
   "metadata": {
    "tags": []
   },
   "outputs": [],
   "source": [
    "# initialize data frame\n",
    "study_specific = pd.DataFrame()\n",
    "\n",
    "# iterate through studies\n",
    "for study in merged_table['study'].unique():\n",
    "    res_temp = merged_table[merged_table['study']==study]\n",
    "    \n",
    "    # iterate through taxa in study\n",
    "    for x in res_temp['full_taxonomy'].unique():\n",
    "        \n",
    "        try:\n",
    "            df = res_temp[res_temp['full_taxonomy']==x]\n",
    "            df = df.copy()\n",
    "            \n",
    "            # binarize case/control status\n",
    "            df['condition_bin'] = (df['condition'] == 'control').astype(int)\n",
    "            \n",
    "            # skip if not enough samples\n",
    "            if df['condition_bin'].nunique()==1:\n",
    "                continue\n",
    "                \n",
    "            # logistic regression\n",
    "            model = smf.logit('condition_bin ~ clr', data = df)        \n",
    "            sol = model.fit(disp=0)\n",
    "            \n",
    "            # calculate log fold change\n",
    "            log2 = np.log2(df[df['condition']=='case']['relative'].mean()/\n",
    "                   df[df['condition']=='control']['relative'].mean())\n",
    "            \n",
    "            # add result to dataframe \n",
    "            study_specific = pd.concat([study_specific, pd.DataFrame({\n",
    "                'taxon':[x], \n",
    "                'pvalue':[sol.pvalues['clr']], \n",
    "                'log2_foldchange':[log2], \n",
    "                'study':[study]})])\n",
    "            \n",
    "        # account for exceptions\n",
    "        except sm.tools.sm_exceptions.PerfectSeparationError:\n",
    "            # print(\"Skipping group\", x,\"in\", study, \"due to perfect predictor error\") ## uncomment for output\n",
    "            continue\n",
    "            \n",
    "        except np.linalg.LinAlgError:\n",
    "            # print(\"Skipping group\", x,\"in\", study, \"due to singular matrix\") ## uncomment for output \n",
    "            continue"
   ]
  },
  {
   "cell_type": "markdown",
   "id": "21397291-5887-46a3-8ba1-c0ce6398ccf1",
   "metadata": {},
   "source": [
    "## Format Results\n",
    "Format the resulting dataframe"
   ]
  },
  {
   "cell_type": "code",
   "execution_count": null,
   "id": "8a162ab1-a6c8-42de-b410-eaca598c8c89",
   "metadata": {},
   "outputs": [],
   "source": [
    "# fdr correction of pvalues\n",
    "study_specific['q'] = sm.stats.multitest.fdrcorrection(study_specific['pvalue'])[1]\n",
    "\n",
    "# shorten taxon id to just genus name\n",
    "study_specific['genus'] = study_specific['taxon'].str.split('|').str[-1]\n",
    "\n",
    "# determine enrichment direction (1 = enriched in cases, -1 = enriched in controls)\n",
    "study_specific['enrichment'] = study_specific['log2_foldchange']>0\n",
    "study_specific['enrichment'] = study_specific['enrichment'].map({True:1,False:-1})\n",
    "\n",
    "# filter to significant results\n",
    "study_specific.loc[study_specific['q']>0.05,'enrichment']=0\n",
    "\n",
    "# create dataframe with pvalues and with enrichments\n",
    "p_frame = study_specific.pivot(index = 'genus',columns = 'study',values = 'q')\n",
    "hits = study_specific.pivot(index = 'genus',columns = 'study',values = 'enrichment')\n",
    "\n",
    "# fill in zeroes for easy plotting \n",
    "hits.fillna(0.0, inplace = True)\n",
    "\n",
    "# # remove rows with no significant enrichments\n",
    "hits = hits.loc[(hits != 0).any(axis=1)]\n",
    "hits"
   ]
  },
  {
   "cell_type": "markdown",
   "id": "4599b57e-e4b1-4820-a0e9-613d951c367a",
   "metadata": {},
   "source": [
    "## Calculate Prevalence and Abundance\n",
    "Here we calculate the prevalence and abundance of each taxon in the analysis. "
   ]
  },
  {
   "cell_type": "code",
   "execution_count": null,
   "id": "07d0e3be-5178-408b-8ee7-db81b003a111",
   "metadata": {},
   "outputs": [],
   "source": [
    "# total number of samples\n",
    "n = merged_table.sample_id.nunique()\n",
    "\n",
    "# calculate prevalence and abundance for each genus\n",
    "prevalence = merged_table[merged_table.reads > 0]['full_taxonomy'].value_counts() / n\n",
    "abundance = merged_table[merged_table.reads > 0].groupby('full_taxonomy')['relative'].mean()\n",
    "\n",
    "# shorten genus name for each \n",
    "prevalence.index = prevalence.index.str.split('|').str[-1]\n",
    "abundance.index = abundance.index.str.split('|').str[-1]\n",
    "\n",
    "# map to dataframe\n",
    "hits['prevalence'] = hits.index.map(prevalence)\n",
    "hits['abundance'] = hits.index.map(abundance)"
   ]
  },
  {
   "cell_type": "markdown",
   "id": "e4417e05-c844-4053-a2c4-a47115fc3717",
   "metadata": {},
   "source": [
    "## Calculate Enrichment Heuristic\n",
    "Here we'll calculate the between study enrichment, defined by N(same direction) - N(opposite direction). If the result is greater than 3, we'll include this in the results"
   ]
  },
  {
   "cell_type": "code",
   "execution_count": null,
   "id": "03a59331-fe40-4c25-ae87-219b15ccb647",
   "metadata": {},
   "outputs": [],
   "source": [
    "# remove low abundance taxa\n",
    "hits = hits[hits['abundance']>0.005]\n",
    "\n",
    "# calculate heuristic\n",
    "hits['overall'] = hits[hits.columns[0:-2]].sum(axis = 1)\n",
    "\n",
    "# sort by abundance\n",
    "hits.sort_values(by = 'abundance', inplace = True)\n",
    "\n",
    "# assign signature for heuristic\n",
    "hits.loc[hits['overall']>=3, 'signature'] = 1\n",
    "hits.loc[hits['overall']<= -3, 'signature'] = -1\n",
    "hits['signature'].fillna(0.0,inplace = True)\n",
    "\n",
    "# drop calculation column \n",
    "hits.drop(columns = 'overall',inplace = True)\n",
    "\n",
    "# transpose for plotting \n",
    "hits = hits.T\n",
    "\n",
    "# formate for plotting\n",
    "hits['authors'] = hits.index.str.split(',').str[0]\n",
    "hits['disease'] = hits.index.map(merged_table.set_index('study')['disease'].to_dict())\n",
    "hits['fill'] = hits['disease'].map(color_dict)\n",
    "hits.sort_values(by = 'disease', inplace = True)"
   ]
  },
  {
   "cell_type": "markdown",
   "id": "fdce30e4-ca63-4b9c-8880-cfb24f123674",
   "metadata": {},
   "source": [
    "## Plot associations\n",
    "Now, using a heatmap, we plot results from the logistic regression. Overall hits are included as an additional subplot, as are prevalence and abundance."
   ]
  },
  {
   "cell_type": "code",
   "execution_count": null,
   "id": "0cbb2921-9f93-44c5-ab44-1d06dc2acbb6",
   "metadata": {
    "tags": []
   },
   "outputs": [],
   "source": [
    "fig, (ax1, ax2, ax3, ax4) = plt.subplots(nrows=4,\n",
    "                               figsize=(18, 10),\n",
    "                               gridspec_kw={'height_ratios': [30,1.5,3,3]})\n",
    "\n",
    "\n",
    "\n",
    "sns.heatmap(hits.iloc[0:-3].drop(columns = ['fill','disease', 'authors']),\n",
    "                    cmap=sns.diverging_palette(220,20,center='light',as_cmap=True),\n",
    "                    cbar = False,\n",
    "                    ax = ax1)\n",
    "for i, color in enumerate(hits.iloc[0:-3]['fill']):\n",
    "    ax1.add_patch(plt.Rectangle(xy=(-0.02, i), width=0.02, height=1, color=color, lw=0,\n",
    "                               transform=ax1.get_yaxis_transform(), clip_on=False))\n",
    "\n",
    "    \n",
    "sns.heatmap(hits[hits.index=='signature'].drop(columns = ['fill','disease', 'authors']),\n",
    "                    cmap=sns.diverging_palette(220,20,center='light',as_cmap=True),center=0.00,\n",
    "                    cbar = False,\n",
    "                    ax = ax2)\n",
    "sns.barplot(x=hits.iloc[0:-3].T.iloc[0:-3].index,\n",
    "            y=hits.T.iloc[0:-3]['abundance'],\n",
    "            ax=ax3,\n",
    "            color='gray')\n",
    "sns.barplot(x=hits.iloc[0:-3].T.iloc[0:-3].index,\n",
    "            y=hits.T.iloc[0:-3]['prevalence'],\n",
    "            ax=ax4,\n",
    "            color='gray')\n",
    "\n",
    "\n",
    "font_props = FontProperties().copy()\n",
    "font_props.set_size(14)\n",
    "\n",
    "ax1.set_xticks([])\n",
    "ax1.tick_params(axis='y', which='major', pad=25, length=0)\n",
    "ax1.set(xlabel=None)\n",
    "ax1.set_yticklabels(ax1.get_ymajorticklabels(), fontproperties=font_props)\n",
    "\n",
    "ax2.set_xticks([])\n",
    "ax2.set_yticks([])\n",
    "ax2.set(xlabel=None)\n",
    "ax2.set(ylabel=None)\n",
    "\n",
    "font_props.set_style(\"italic\")\n",
    "ax3.set_ylabel('',fontsize = 14)\n",
    "ax3.set(xlabel=None)\n",
    "ax3.set_xticklabels([])\n",
    "\n",
    "font_props.set_style(\"italic\")\n",
    "ax4.set_ylabel('', fontsize =14, rotation = 0)\n",
    "ax4.set(xlabel=None)\n",
    "plt.xticks(rotation =80)\n",
    "ax4.set_xticklabels(ax4.get_xmajorticklabels(), fontproperties=font_props)\n",
    "\n",
    "plt.savefig('../visualizations/logistic_regression.svg', dpi=300, bbox_inches=\"tight\", format = 'svg')\n",
    "plt.show()"
   ]
  },
  {
   "cell_type": "markdown",
   "id": "d82785b4-3827-463d-b7c8-ba1d4a3e6aed",
   "metadata": {},
   "source": [
    "## Calculate Effect Sizes\n",
    "Calcuate effect sizes and p-values for each association "
   ]
  },
  {
   "cell_type": "code",
   "execution_count": null,
   "id": "d750c485-4131-4e94-b900-700debdef072",
   "metadata": {},
   "outputs": [],
   "source": [
    "# isolate columns with abundances\n",
    "taxa = hits.columns[0:-3].unique()\n",
    "\n",
    "# isolate rows with studies\n",
    "studies = hits.iloc[0:-3].index.unique()\n",
    "\n",
    "# initialize dataframe\n",
    "effects = pd.DataFrame(index = taxa, columns = studies)\n",
    "\n",
    "# iterate through taxa and studies\n",
    "for taxon in taxa:\n",
    "    for study in studies:\n",
    "        # calculate effect size\n",
    "        cohens_d = effectsize(\n",
    "            merged_table[(merged_table['genus']==taxon)&\n",
    "                         (merged_table['study']==study)&\n",
    "                         (merged_table['condition'] =='control')]['clr'],\n",
    "            merged_table[(merged_table['genus']==taxon)&\n",
    "                         (merged_table['study']==study)&\n",
    "                         (merged_table['condition'] =='case')]['clr'])\n",
    "        effects.at[taxon, study] = cohens_d\n",
    "\n",
    "# create dataframes\n",
    "effects = effects[effects.index.isin(hits.columns)].T\n",
    "p_frame = p_frame[p_frame.index.isin(hits.columns)].T"
   ]
  }
 ],
 "metadata": {
  "kernelspec": {
   "display_name": "Python 3 (ipykernel)",
   "language": "python",
   "name": "python3"
  },
  "language_info": {
   "codemirror_mode": {
    "name": "ipython",
    "version": 3
   },
   "file_extension": ".py",
   "mimetype": "text/x-python",
   "name": "python",
   "nbconvert_exporter": "python",
   "pygments_lexer": "ipython3",
   "version": "3.8.13"
  }
 },
 "nbformat": 4,
 "nbformat_minor": 5
}

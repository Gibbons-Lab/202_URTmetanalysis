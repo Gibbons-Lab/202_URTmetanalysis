{
 "cells": [
  {
   "cell_type": "markdown",
   "id": "dff867d4-5b30-4baa-989c-e0489440c6b0",
   "metadata": {},
   "source": [
    "# Covariate Analysis \n",
    "\n",
    "In this notebook we'll use the merged table we constructed to analyze the impact of covariates on healthy individuals. We'll first  collect the table, then use regression to calculate assocations between geographic location, age and sex with abundance. \n",
    "_______"
   ]
  },
  {
   "cell_type": "code",
   "execution_count": null,
   "id": "8fd34737-2d31-45fb-b183-c67c59973cdc",
   "metadata": {
    "tags": []
   },
   "outputs": [],
   "source": [
    "from utils import *\n",
    "import pandas as pd\n",
    "import scipy.stats\n",
    "import seaborn as sns\n",
    "import numpy as np\n",
    "import statsmodels\n",
    "import matplotlib.pyplot as plt\n",
    "\n",
    "%matplotlib inline"
   ]
  },
  {
   "cell_type": "markdown",
   "id": "a8ac257d-81b4-497a-81ad-7fd731d73c15",
   "metadata": {},
   "source": [
    "## Filter Dataframes\n",
    "First we'll build a dataframe of all reads in the meta-analysis pertaining to healthy samples, as well as those with associated metadata. Since reads have been removed from the original dataframe, we'll redo CLR calculations"
   ]
  },
  {
   "cell_type": "code",
   "execution_count": null,
   "id": "ea392f6a-97c8-42c1-b89b-0aa185e33444",
   "metadata": {
    "tags": []
   },
   "outputs": [],
   "source": [
    "# load table\n",
    "merged_table = pd.read_csv('../data/merged_table.csv', index_col = 0)\n",
    "\n",
    "# filter to just controls\n",
    "res = merged_table[merged_table.condition == 'control']\n",
    "res = clr(filter_taxa(res, min_reads=10, min_prevalence=0.05)) \n",
    "\n",
    "# filter to just controls with sex metadata\n",
    "res_sex = res[~pd.isnull(res.sex)] \n",
    "res_sex = clr(filter_taxa(res_sex, min_reads=10, min_prevalence=0.05)) \n",
    "\n",
    "# filter to just controls with age metadata\n",
    "res_age = res[~pd.isnull(res.age)] \n",
    "res_age = clr(filter_taxa(res_age, min_reads=10, min_prevalence=0.05))"
   ]
  },
  {
   "cell_type": "markdown",
   "id": "6949d04d-c9fa-4b83-9513-bcb31acda5bf",
   "metadata": {
    "jp-MarkdownHeadingCollapsed": true,
    "tags": []
   },
   "source": [
    "## Geographic location\n",
    "For location, we'll run an linear regression correcting for 16S sequencing hypervariable region, sequencing method and URT collection site to look for taxa significantly enriched across locations"
   ]
  },
  {
   "cell_type": "code",
   "execution_count": null,
   "id": "69f5170d-817c-47bd-9c75-5926bf953217",
   "metadata": {},
   "outputs": [],
   "source": [
    "# initialize dataframes\n",
    "results = pd.DataFrame({'genus':[]})\n",
    "pframe_loc = pd.DataFrame()\n",
    "\n",
    "# iterate through genera \n",
    "for genus in res['genus'].unique():\n",
    "    res_temp = res[res['genus']==genus]\n",
    "    \n",
    "    # linear regression\n",
    "    mod = statsmodels.formula.api.ols(formula = 'clr ~ region + hypervariable_region + sequencing + URT',\n",
    "                                      data = res_temp) \n",
    "    reg = mod.fit() #fit to regression\n",
    "    \n",
    "    #create dataframe of pvalues\n",
    "    pframe_loc = pd.concat([pframe_loc, \n",
    "                        reg.pvalues[reg.pvalues.index.str.startswith('region')]], axis = 1).rename(columns = {0:genus})\n",
    "    pframe_loc.dropna(axis = 1, how = 'all', inplace = True)\n",
    "    \n",
    "# add significantly enriched genera to results\n",
    "for genus in pframe_loc.columns:\n",
    "    corrected_pvalue = statsmodels.stats.multitest.fdrcorrection(pframe_loc[genus].dropna())[1]\n",
    "    if corrected_pvalue.min()<0.05:\n",
    "            results = pd.concat([results, pd.DataFrame({'genus':[genus]})])\n",
    "            \n",
    "# create dataframe for plots\n",
    "for_plots_loc = res[res['genus'].isin(results['genus'])].groupby(\n",
    "    [\"kingdom\", \"phylum\", \"class\", \"order\", \"family\",\"genus\",\"study\"]).mean().reset_index()\n",
    "for_plots_loc = pd.pivot_table(for_plots_loc, index = 'genus', columns = 'study', values = 'clr').fillna(0.0)"
   ]
  },
  {
   "cell_type": "markdown",
   "id": "5c1aee40-2db2-4785-99ad-4b842dfe378a",
   "metadata": {},
   "source": [
    "## Visualize Results\n",
    "Create a heatmap to visualize the results"
   ]
  },
  {
   "cell_type": "code",
   "execution_count": null,
   "id": "40a18254-cbeb-4e58-90ac-8a5dee8d059d",
   "metadata": {
    "tags": []
   },
   "outputs": [],
   "source": [
    "region_list = res.drop_duplicates(subset = 'study').set_index('study')['region']\n",
    "palette = sns.color_palette(\"Paired\", 10)\n",
    "lut = dict(zip(region_list.unique(),palette))\n",
    "row_colors = region_list.map(lut)\n",
    "\n",
    "for_plots_loc = for_plots_loc[region_list.sort_values().index]\n",
    "\n",
    "sns.set(font_scale=2.2)\n",
    "\n",
    "ax_loc = sns.clustermap(for_plots_loc.T,\n",
    "                    cmap=sns.diverging_palette(240,20,center='light',as_cmap=True),\n",
    "                    figsize = (50,30),\n",
    "                    row_cluster = False,\n",
    "                    xticklabels = True,\n",
    "                    row_colors = row_colors,\n",
    "                    cbar_pos=[1,.25,.02,.6])\n",
    "for label in res['region'].unique():\n",
    "    ax_loc.ax_col_dendrogram.bar(0, 0, color=lut[label],\n",
    "                            label=label, linewidth=1)\n",
    "ax_loc.ax_col_dendrogram.legend(loc=[-.25,-1], ncol=1)\n",
    "ax_loc.savefig('../visualizations/covariates_location.svg', dpi=300, bbox_inches=\"tight\", format = 'svg')"
   ]
  },
  {
   "cell_type": "markdown",
   "id": "6d15ecae-7712-4bda-b537-09f3b9147a21",
   "metadata": {},
   "source": [
    "## Age \n",
    "\n",
    "For age, we will use regression analysis to find associations, correcting for URT sampling site and geographic region"
   ]
  },
  {
   "cell_type": "code",
   "execution_count": null,
   "id": "a81c671f-595d-4c0e-9c67-43a262a14901",
   "metadata": {},
   "outputs": [],
   "source": [
    "# defined squared term to search for non-linear relationships\n",
    "res_age['age2'] = np.square(res_age['age'])\n",
    "\n",
    "# initialize dataframe\n",
    "pframe_age = pd.DataFrame()\n",
    "\n",
    "# iterature through genera\n",
    "for genus in res_age['genus'].unique():\n",
    "    res_temp = res_age[res_age['genus']==genus]\n",
    "    \n",
    "    # linear regression\n",
    "    mod = statsmodels.formula.api.ols(formula = 'clr ~ age + age2 + region + hypervariable_region + sequencing + URT',\n",
    "                                      data = res_temp) \n",
    "    reg = mod.fit() \n",
    "    pframe_age = pd.concat([pframe_age, reg.pvalues[reg.pvalues.index.str.startswith('age')]], axis = 1).rename(columns = {0:genus})\n",
    "\n",
    "    \n",
    "# fdr correction of pvalues and filtering\n",
    "pframe_age = pframe_age.T.sort_values(by = 'age')\n",
    "pframe_age['age'] = statsmodels.stats.multitest.fdrcorrection(pframe_age['age'], method = 'indep')[1]\n",
    "pframe_age['age2'] = statsmodels.stats.multitest.fdrcorrection(pframe_age['age'], method = 'indep')[1]\n",
    "pframe_age = pframe_age[(pframe_age['age']<0.05)|(pframe_age['age2']<0.05)]\n",
    "\n",
    "# format results for plotting\n",
    "for_plots_age = res_age.groupby(\n",
    "    [\"kingdom\", \"phylum\", \"class\", \"order\", \"family\",\"genus\",\"age\"]).mean().reset_index()\n",
    "for_plots_age = for_plots_age[for_plots_age['genus'].isin(pframe_age[(pframe_age['age']<0.05)|(pframe_age['age2']<0.05)].index)]\n",
    "for_plots_age['quad'] = pd.cut(for_plots_age['age'], [0,1,4,9,35,97], labels = ['0-1','1-4','4-9','9-35','35-97'])\n",
    "for_plots_age = pd.pivot_table(for_plots_age, index = 'genus', columns = 'quad', values = 'clr').fillna(0.0)\n",
    "for_plots_age"
   ]
  },
  {
   "cell_type": "markdown",
   "id": "a0f27c16-95f8-4d7d-90e6-e1166303fe4b",
   "metadata": {},
   "source": [
    "## Visualize Results\n",
    "Create a heatmap to visualize results"
   ]
  },
  {
   "cell_type": "code",
   "execution_count": null,
   "id": "6f92b456-ce57-4987-8dc5-51ec3c7e4ac1",
   "metadata": {
    "tags": []
   },
   "outputs": [],
   "source": [
    "sns.set(font_scale=1)\n",
    "ax_age = sns.clustermap(for_plots_age.T,\n",
    "                    cmap=sns.diverging_palette(240,20,center='light',as_cmap=True),\n",
    "                    figsize = (15,10),\n",
    "                    yticklabels = True,\n",
    "                    row_cluster = False,\n",
    "                    col_cluster = True,\n",
    "                    cbar_pos=[1,.25,.02,.6])"
   ]
  },
  {
   "cell_type": "code",
   "execution_count": null,
   "id": "58d0d656-25a1-4896-8243-69cab643c6c3",
   "metadata": {},
   "outputs": [],
   "source": [
    "ax_age.savefig('../visualizations/covariates_age.svg', dpi=300, bbox_inches=\"tight\", format = 'svg')"
   ]
  },
  {
   "cell_type": "markdown",
   "id": "4ded246a-8a2c-4861-8c9d-686b84e4c7bb",
   "metadata": {},
   "source": [
    "## Sex\n",
    "We will do the same regression analysis with sex as a covariate"
   ]
  },
  {
   "cell_type": "code",
   "execution_count": null,
   "id": "0f9c6229-5f69-4390-a204-f56cf303b07a",
   "metadata": {},
   "outputs": [],
   "source": [
    "pframe_sex = pd.DataFrame()\n",
    "for genus in res_sex['genus'].unique():\n",
    "    res_temp = res_sex[res_sex['genus']==genus]\n",
    "    mod = statsmodels.formula.api.ols(formula = 'clr ~ sex + region + hypervariable_region + sequencing + URT',\n",
    "                                      data = res_temp) #ordinary least squares\n",
    "    reg = mod.fit() #fit to regression\n",
    "    pframe_sex = pd.concat([pframe_sex, reg.pvalues[reg.pvalues.index.str.startswith('sex')]], axis = 1).rename(columns = {0:genus})\n",
    "for_plots_sex= res_sex.groupby(\n",
    "    [\"kingdom\", \"phylum\", \"class\", \"order\", \"family\",\"genus\",\"sex\"]).mean().reset_index()\n",
    "pframe_sex = pframe_sex.T.sort_values(by = 'sex[T.M]')\n",
    "pframe_sex['sex[T.M]'] = statsmodels.stats.multitest.fdrcorrection(pframe_sex['sex[T.M]'], method = 'indep')[1]\n",
    "for_plots_sex = for_plots_sex[for_plots_sex['genus'].isin(pframe_sex[pframe_sex['sex[T.M]']<0.05].index)]\n",
    "for_plots_sex = pd.pivot_table(for_plots_sex, index = 'genus', columns = 'sex', values = 'clr').fillna(0.0)\n",
    "for_plots_sex"
   ]
  },
  {
   "cell_type": "markdown",
   "id": "8d935334-0406-4d40-be9b-275421afcb41",
   "metadata": {},
   "source": [
    "No significant results were seen"
   ]
  }
 ],
 "metadata": {
  "kernelspec": {
   "display_name": "Python 3 (ipykernel)",
   "language": "python",
   "name": "python3"
  },
  "language_info": {
   "codemirror_mode": {
    "name": "ipython",
    "version": 3
   },
   "file_extension": ".py",
   "mimetype": "text/x-python",
   "name": "python",
   "nbconvert_exporter": "python",
   "pygments_lexer": "ipython3",
   "version": "3.8.13"
  }
 },
 "nbformat": 4,
 "nbformat_minor": 5
}

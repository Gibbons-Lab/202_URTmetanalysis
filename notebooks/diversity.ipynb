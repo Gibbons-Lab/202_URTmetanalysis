{
 "cells": [
  {
   "cell_type": "markdown",
   "id": "077f2846-b783-46f0-b222-be970dcee00a",
   "metadata": {},
   "source": [
    "# Diversity Analysis\n",
    "\n",
    "In this notebook we'll use the merged table constructed in merged_table.ipynb to investigate alpha and beta diversity of samples in the meta-analysis, using QIIME2 and SkBio. \n",
    "_______\n"
   ]
  },
  {
   "cell_type": "code",
   "execution_count": null,
   "id": "b51ff4f2-f272-4094-8c70-73bd1f501d0d",
   "metadata": {
    "tags": []
   },
   "outputs": [],
   "source": [
    "from utils import *\n",
    "import pandas as pd\n",
    "import qiime2 as q2\n",
    "from plotnine import *\n",
    "import skbio\n",
    "import scipy.stats\n",
    "import numpy as np\n",
    "import os\n",
    "\n",
    "%matplotlib inline"
   ]
  },
  {
   "cell_type": "markdown",
   "id": "b05155ad-cbdd-4368-bbed-cd517311109b",
   "metadata": {},
   "source": [
    "## Merged Table\n",
    "First, collect the merged table with all reads"
   ]
  },
  {
   "cell_type": "code",
   "execution_count": null,
   "id": "e73685fa-725c-4941-96b3-16b2415f5e2e",
   "metadata": {},
   "outputs": [],
   "source": [
    "merged_table = pd.read_csv('../data/merged_table.csv', index_col = 0)\n",
    "merged_table"
   ]
  },
  {
   "cell_type": "markdown",
   "id": "377fca63-8b97-4438-b43d-37b686391e94",
   "metadata": {},
   "source": [
    "## Convert to QIIME2 Artifact\n",
    "We'll pivot this table, and save it as a QIIME2 artifact, so we can use the built-in diversity functions. "
   ]
  },
  {
   "cell_type": "code",
   "execution_count": null,
   "id": "7e5e16f8-653b-45b0-8c66-1ef53beba46e",
   "metadata": {
    "tags": []
   },
   "outputs": [],
   "source": [
    "# pivot into matrix form\n",
    "abundance_table = pd.pivot_table(merged_table, index = 'sample_id', \n",
    "                         columns = 'full_taxonomy', values = 'reads').fillna(0)\n",
    "\n",
    "# convert to QIIME2 artifact\n",
    "abundance_table = q2.Artifact.import_data(\"FeatureTable[Frequency]\", abundance_table)\n",
    "abundance_table.save('../data/abundance_table.qza')"
   ]
  },
  {
   "cell_type": "markdown",
   "id": "c904ca0b-a62a-4b30-a9df-e6cd13842347",
   "metadata": {},
   "source": [
    "## Metadata\n",
    "We'll also need a merged metadata table, constructed from study specific metadata. We can get this from the merged table loaded above."
   ]
  },
  {
   "cell_type": "code",
   "execution_count": null,
   "id": "d8ed43fc-da29-4136-9496-de5e6c2a0123",
   "metadata": {},
   "outputs": [],
   "source": [
    "# isolate metadata columns\n",
    "metadata = merged_table[['sample_id','condition','region', 'country','hypervariable_region',\n",
    "                         'sequencing','study','age','sex', 'disease','URT']]\n",
    "# rename column for use in QIIME2\n",
    "metadata.rename(columns = {'sample_id':'sample-id'}, inplace = True)\n",
    "\n",
    "# drop duplicates so there is one row per samples\n",
    "metadata.drop_duplicates(inplace = True)\n",
    "\n",
    "metadata.set_index('sample-id', inplace = True)\n",
    "metadata.to_csv('../data/merged_metadata.tsv',sep = '\\t')"
   ]
  },
  {
   "cell_type": "markdown",
   "id": "5447133d-4db0-4317-919d-9672439bb6cf",
   "metadata": {},
   "source": [
    "## Rarefy Data\n",
    "First, we need to rarefy our data. We can use the QIIME2 alpha-rarefaction function to visualize rarefaction, then rarefy to an appropriate depth."
   ]
  },
  {
   "cell_type": "code",
   "execution_count": null,
   "id": "8cd833ea-eb10-42e0-9530-47ea9a4d01f3",
   "metadata": {},
   "outputs": [],
   "source": [
    "!qiime diversity alpha-rarefaction \\\n",
    "  --i-table ../data/abundance_table.qza \\\n",
    "  --p-max-depth 10000 \\\n",
    "  --m-metadata-file ../data/merged_metadata.tsv \\\n",
    "  --o-visualization ../visualizations/alpha-rarefaction.qzv"
   ]
  },
  {
   "cell_type": "code",
   "execution_count": null,
   "id": "fafd6085-30d2-460a-8412-3c19ecd3d8ad",
   "metadata": {},
   "outputs": [],
   "source": [
    "!qiime feature-table rarefy \\\n",
    "  --i-table ../data/abundance_table.qza \\\n",
    "  --p-sampling-depth 2000 \\\n",
    "  --o-rarefied-table ../results/rarefied_table.qza"
   ]
  },
  {
   "cell_type": "markdown",
   "id": "1461eb70-b384-4d7d-9b10-59336f417f95",
   "metadata": {},
   "source": [
    "# Alpha Diversity\n",
    "Now we'll examine alpha diversity using Shannon entropy, and richness using Chao1 index"
   ]
  },
  {
   "cell_type": "code",
   "execution_count": null,
   "id": "bad9c152",
   "metadata": {
    "tags": []
   },
   "outputs": [],
   "source": [
    "!qiime diversity alpha \\\n",
    "  --i-table ../results/rarefied_table.qza \\\n",
    "  --p-metric shannon \\\n",
    "  --o-alpha-diversity ../results/shannon.qza\n",
    "!qiime tools export \\\n",
    "  --input-path ../results/shannon.qza \\\n",
    "  --output-path ../results/shannon"
   ]
  },
  {
   "cell_type": "code",
   "execution_count": null,
   "id": "5ae8ce72-39fa-4d70-a22c-46c56c23f420",
   "metadata": {},
   "outputs": [],
   "source": [
    "!qiime diversity alpha \\\n",
    "  --i-table ../results/rarefied_table.qza \\\n",
    "  --p-metric chao1 \\\n",
    "  --o-alpha-diversity ../results/chao1.qza\n",
    "!qiime tools export \\\n",
    "  --input-path ../results/chao1.qza \\\n",
    "  --output-path ../results/chao1"
   ]
  },
  {
   "cell_type": "markdown",
   "id": "02c0c5b3-462a-4227-945c-b70d76487479",
   "metadata": {},
   "source": [
    "## Add Metadata \n",
    "Merged the results, and add metadata to the alpha diversity results"
   ]
  },
  {
   "cell_type": "code",
   "execution_count": null,
   "id": "7b648093-e088-41d6-8dae-5c297f9d791f",
   "metadata": {},
   "outputs": [],
   "source": [
    "# get shannon results\n",
    "alpha = pd.concat([pd.read_csv('../results/shannon/alpha-diversity.tsv', sep = '\\t', index_col = 0),\n",
    "                   pd.read_csv('../results/chao1/alpha-diversity.tsv', sep = '\\t', index_col = 0)], axis = 1)\n",
    "\n",
    "# add metadata, drop filtered samples\n",
    "alpha = pd.concat([alpha, metadata],axis = 1, join = 'inner')\n",
    "\n",
    "# filter nasopharynx and oropharynx samples\n",
    "alpha_NP = alpha[alpha['URT'] == 'NP']\n",
    "alpha_OP = alpha[alpha['URT'] == 'OP']\n",
    "alpha"
   ]
  },
  {
   "cell_type": "markdown",
   "id": "08ec1b2b-c7f0-4a59-a641-3b7ca17bac7f",
   "metadata": {},
   "source": [
    "## Color Dict\n",
    "Define a color dictionary for disease types"
   ]
  },
  {
   "cell_type": "code",
   "execution_count": null,
   "id": "9d553f63-63fe-4db3-b639-6b53574ab301",
   "metadata": {},
   "outputs": [],
   "source": [
    "color_dict = {'Asthma':'#a6cee3',\n",
    "              'COVID-19':'#1f78b4', \n",
    "              'Influenza':'#b2df8a',\n",
    "              'Pneumonia':'#33a02c',\n",
    "              'RSV':'#fb9a99',\n",
    "              'RTI':'#e31a1c',\n",
    "              'Resp. Allergies':'#fdbf6f',\n",
    "              'Rhinosinusitis':'#ff7f00',\n",
    "              'COPD':'#cab2d6',\n",
    "              'Tonsillitis':'#6a3d9a',\n",
    "              'Healthy':'#a2acbb'}"
   ]
  },
  {
   "cell_type": "markdown",
   "id": "91d66820-14ae-44a2-aa0c-6df128be4f9f",
   "metadata": {},
   "source": [
    "## Visualize Results\n",
    "Make bar plots for Shannon  entropy and Chao1 index in both nasopharynx and oropharynx samples"
   ]
  },
  {
   "cell_type": "code",
   "execution_count": null,
   "id": "06cd8bc8-3729-477b-ba95-49f8ab767b3f",
   "metadata": {
    "tags": []
   },
   "outputs": [],
   "source": [
    "shannonNP_plt = (ggplot(\n",
    "    alpha_NP, aes(x = 'study', y = 'shannon_entropy'))\n",
    "    +scale_x_discrete(limits = alpha_NP['study'].unique()) \n",
    "    +annotate(geom_rect, xmin=0, xmax=3.5, ymin=0, ymax=float('inf'),\n",
    "              fill = '#a6cee3', alpha=0.3)\n",
    "    +annotate(geom_rect, xmin=3.5, xmax=6.5, ymin=0, ymax=float('inf'),\n",
    "              fill = '#1f78b4', alpha=0.3)\n",
    "    +annotate(geom_rect, xmin=6.5, xmax=9.5, ymin=0, ymax=float('inf'),\n",
    "              fill = '#b2df8a', alpha=0.3)\n",
    "    +annotate(geom_rect, xmin=9.5, xmax=10.5, ymin=0, ymax=float('inf'),\n",
    "              fill = '#33a02c', alpha=0.3)\n",
    "    +annotate(geom_rect, xmin=10.5, xmax=13.5, ymin=0, ymax=float('inf'),\n",
    "              fill = '#fb9a99', alpha=0.3)\n",
    "    +annotate(geom_rect, xmin=13.5, xmax=16.5, ymin=0, ymax=float('inf'),\n",
    "              fill = '#e31a1c', alpha=0.3)\n",
    "    +annotate(geom_rect, xmin=16.5, xmax=17.5, ymin=0, ymax=float('inf'),\n",
    "              fill = '#fdbf6f', alpha=0.3)\n",
    "    +annotate(geom_rect, xmin=17.5, xmax=20.5, ymin=0, ymax=float('inf'),\n",
    "              fill = '#ff7f00', alpha=0.3)\n",
    "    +ylim(0,7)\n",
    "    +geom_boxplot(aes(fill = 'condition'),width = 1, alpha = 0.8)\n",
    "    +theme(axis_text_x=element_text(rotation=40, hjust=1))\n",
    "    +scale_fill_manual(values = ['#c3553b','#3e8093'], labels = ['Case','Control'])\n",
    "    +labs(x = 'Study', y = 'Shannon Entropy', fill = 'Status')\n",
    "    +theme(text = element_text(size=30),panel_background=element_rect(fill = \"white\",\n",
    "                                colour = \"white\",size = 0.5, linetype = \"solid\"),\n",
    "                                panel_grid=element_line(size = .2, linetype = \"solid\",colour = \"gray\"),\n",
    "                                axis_line = element_line(size = 2, linetype = \"solid\",colour = \"black\"),\n",
    "                                legend_title=element_blank(),\n",
    "                                legend_position='right',\n",
    "                                figure_size=(16, 12)))\n",
    "shannonNP_plt"
   ]
  },
  {
   "cell_type": "code",
   "execution_count": null,
   "id": "aff08308-0d38-4b59-8218-8329551f65e5",
   "metadata": {},
   "outputs": [],
   "source": [
    "chaoNP_plt = (ggplot(\n",
    "    alpha_NP, aes(x = 'study', y = 'chao1'))\n",
    "    +scale_x_discrete(limits = alpha_NP['study'].unique()) \n",
    "    +annotate(geom_rect, xmin=0, xmax=3.5, ymin=0, ymax=float('inf'),\n",
    "              fill = '#a6cee3', alpha=0.3)\n",
    "    +annotate(geom_rect, xmin=3.5, xmax=6.5, ymin=0, ymax=float('inf'),\n",
    "              fill = '#1f78b4', alpha=0.3)\n",
    "    +annotate(geom_rect, xmin=6.5, xmax=9.5, ymin=0, ymax=float('inf'),\n",
    "              fill = '#b2df8a', alpha=0.3)\n",
    "    +annotate(geom_rect, xmin=9.5, xmax=10.5, ymin=0, ymax=float('inf'),\n",
    "              fill = '#33a02c', alpha=0.3)\n",
    "    +annotate(geom_rect, xmin=10.5, xmax=13.5, ymin=0, ymax=float('inf'),\n",
    "              fill = '#fb9a99', alpha=0.3)\n",
    "    +annotate(geom_rect, xmin=13.5, xmax=16.5, ymin=0, ymax=float('inf'),\n",
    "              fill = '#e31a1c', alpha=0.3)\n",
    "    +annotate(geom_rect, xmin=16.5, xmax=17.5, ymin=0, ymax=float('inf'),\n",
    "              fill = '#fdbf6f', alpha=0.3)\n",
    "    +annotate(geom_rect, xmin=17.5, xmax=20.5, ymin=0, ymax=float('inf'),\n",
    "              fill = '#ff7f00', alpha=0.3)\n",
    "\n",
    "    +geom_boxplot(aes(fill = 'condition'),width = 1, alpha = 0.8)\n",
    "    +theme(axis_text_x=element_text(rotation=40, hjust=1))\n",
    "    +scale_fill_manual(values = ['#c3553b','#3e8093'], labels = ['Case','Control'])\n",
    "    +labs(x = 'Study', y = 'Chao1 Index', fill = 'Status')\n",
    "    +theme(text = element_text(size=30),panel_background=element_rect(fill = \"white\",\n",
    "                                colour = \"white\",size = 0.5, linetype = \"solid\"),\n",
    "                                panel_grid=element_line(size = .2, linetype = \"solid\",colour = \"gray\"),\n",
    "                                axis_line = element_line(size = 2, linetype = \"solid\",colour = \"black\"),\n",
    "                                legend_title=element_blank(),\n",
    "                                legend_position='right',\n",
    "                                figure_size=(16, 12)))\n",
    "chaoNP_plt"
   ]
  },
  {
   "cell_type": "code",
   "execution_count": null,
   "id": "37a5473e-593c-4afc-ac5e-89464e7e4934",
   "metadata": {},
   "outputs": [],
   "source": [
    "shannonOP_plt = (ggplot(\n",
    "    alpha_OP, aes(x = 'study', y = 'shannon_entropy'))\n",
    "    +scale_x_discrete(limits = alpha_OP['study'].unique()) \n",
    "    +annotate(geom_rect, xmin=0, xmax=1.5, ymin=0, ymax=float('inf'),\n",
    "              fill = '#a6cee3', alpha=0.3)\n",
    "    +annotate(geom_rect, xmin=1.5, xmax=2.5, ymin=0, ymax=float('inf'),\n",
    "              fill = '#cab2d6', alpha=0.3)\n",
    "    +annotate(geom_rect, xmin=2.5, xmax=3.5, ymin=0, ymax=float('inf'),\n",
    "              fill = '#b2df8a', alpha=0.3)\n",
    "    +annotate(geom_rect, xmin=3.5, xmax=6.5, ymin=0, ymax=float('inf'),\n",
    "              fill = '#33a02c', alpha=0.3)\n",
    "    +annotate(geom_rect, xmin=6.5, xmax=7.5, ymin=0, ymax=float('inf'),\n",
    "              fill = '#e31a1c', alpha=0.3)\n",
    "    +annotate(geom_rect, xmin=7.5, xmax=8.5, ymin=0, ymax=float('inf'),\n",
    "              fill = '#fdbf6f', alpha=0.3)\n",
    "    +annotate(geom_rect, xmin=8.5, xmax=10.5, ymin=0, ymax=float('inf'),\n",
    "              fill = '#6a3d9a', alpha=0.3)\n",
    "    +geom_boxplot(aes(fill = 'condition'), width = 0.66, alpha = 0.8)\n",
    "    +ylim(0,7)\n",
    "    +theme(axis_text_x=element_text(rotation=40, hjust=1))\n",
    "    +scale_fill_manual(values = ['#c3553b','#3e8093'], labels = ['Case','Control'])\n",
    "    +labs(x = 'Study', y = 'Shannon Entropy', fill = 'Status')\n",
    "    +theme(text = element_text(size=30),panel_background=element_rect(fill = \"white\",\n",
    "                                colour = \"white\",size = 0.5, linetype = \"solid\"),\n",
    "                                panel_grid=element_line(size = .2, linetype = \"solid\",colour = \"gray\"),\n",
    "                                axis_line = element_line(size = 2, linetype = \"solid\",colour = \"black\"),\n",
    "                                legend_title=element_blank(),\n",
    "                                legend_position='right',\n",
    "                                figure_size=(16, 12)))\n",
    "shannonOP_plt"
   ]
  },
  {
   "cell_type": "code",
   "execution_count": null,
   "id": "2b88dd3a-251f-4ec6-803e-dcf51c5c515a",
   "metadata": {},
   "outputs": [],
   "source": [
    "chaoOP_plt = (ggplot(\n",
    "    alpha_OP, aes(x = 'study', y = 'chao1'))\n",
    "    +scale_x_discrete(limits = alpha_OP['study'].unique()) \n",
    "    +annotate(geom_rect, xmin=0, xmax=1.5, ymin=0, ymax=float('inf'),\n",
    "              fill = '#a6cee3', alpha=0.3)\n",
    "    +annotate(geom_rect, xmin=1.5, xmax=2.5, ymin=0, ymax=float('inf'),\n",
    "              fill = '#cab2d6', alpha=0.3)\n",
    "    +annotate(geom_rect, xmin=2.5, xmax=3.5, ymin=0, ymax=float('inf'),\n",
    "              fill = '#b2df8a', alpha=0.3)\n",
    "    +annotate(geom_rect, xmin=3.5, xmax=6.5, ymin=0, ymax=float('inf'),\n",
    "              fill = '#33a02c', alpha=0.3)\n",
    "    +annotate(geom_rect, xmin=6.5, xmax=7.5, ymin=0, ymax=float('inf'),\n",
    "              fill = '#e31a1c', alpha=0.3)\n",
    "    +annotate(geom_rect, xmin=7.5, xmax=8.5, ymin=0, ymax=float('inf'),\n",
    "              fill = '#fdbf6f', alpha=0.3)\n",
    "    +annotate(geom_rect, xmin=8.5, xmax=10.5, ymin=0, ymax=float('inf'),\n",
    "              fill = '#6a3d9a', alpha=0.3)\n",
    "    +geom_boxplot(aes(fill = 'condition'),width = 0.66, alpha = 0.8)\n",
    "    +theme(axis_text_x=element_text(rotation=40, hjust=1))\n",
    "    +scale_fill_manual(values = ['#c3553b','#3e8093'], labels = ['Case','Control'])\n",
    "    +labs(x = 'Study', y = 'Chao1 Index', fill = 'Status')\n",
    "    +theme(text = element_text(size=30),panel_background=element_rect(fill = \"white\",\n",
    "                                colour = \"white\",size = 0.5, linetype = \"solid\"),\n",
    "                                panel_grid=element_line(size = .2, linetype = \"solid\",colour = \"gray\"),\n",
    "                                axis_line = element_line(size = 2, linetype = \"solid\",colour = \"black\"),\n",
    "                                legend_title=element_blank(),\n",
    "                                legend_position='right',\n",
    "                                figure_size=(16, 12)))\n",
    "chaoOP_plt"
   ]
  },
  {
   "cell_type": "code",
   "execution_count": null,
   "id": "3c187ce3-e3c6-4504-9897-b2aa55a4063c",
   "metadata": {},
   "outputs": [],
   "source": [
    "ggsave(shannonNP_plt, '../visualizations/shannonNP.svg', dpi = 300, format = 'svg')\n",
    "ggsave(chaoNP_plt, '../visualizations/chaoNP.svg', dpi = 300, format = 'svg')\n",
    "ggsave(shannonOP_plt, '../visualizations/shannonOP.svg', dpi = 300, format = 'svg')\n",
    "ggsave(chaoOP_plt, '../visualizations/chaoOP.svg', dpi = 300, format = 'svg')"
   ]
  },
  {
   "cell_type": "markdown",
   "id": "afded74d-b95b-4956-b81f-7288231178cb",
   "metadata": {},
   "source": [
    "## Calculate Significance\n",
    "Using a t-test, determine the association with diversity and case/control condition for each plot. "
   ]
  },
  {
   "cell_type": "code",
   "execution_count": null,
   "id": "92545a54-b750-4aa6-9f52-68692112ab41",
   "metadata": {},
   "outputs": [],
   "source": [
    "# iterate through studies \n",
    "for study in alpha['study'].unique():\n",
    "    # identify cases and controls\n",
    "    case = alpha['shannon_entropy'][(alpha['study'].str.contains(study))&\n",
    "                                      (alpha['condition'].str.contains('case'))]\n",
    "    control = alpha['shannon_entropy'][(alpha['study'].str.contains(study))&\n",
    "                                      (alpha['condition'].str.contains('control'))]\n",
    "    # calculate a pvalue \n",
    "    pval = scipy.stats.f_oneway(case,control)[1]\n",
    "    print(study+': '+pval.round(50).astype('str'))"
   ]
  },
  {
   "cell_type": "code",
   "execution_count": null,
   "id": "4ea7c6ee-e1c5-49ed-bb00-bd64acd22f91",
   "metadata": {},
   "outputs": [],
   "source": [
    "# iterate through studies\n",
    "for study in alpha['study'].unique():\n",
    "    # identify cases and controls\n",
    "    case = alpha['chao1'][(alpha['study'].str.contains(study))&\n",
    "                                      (alpha['condition'].str.contains('case'))]\n",
    "    control = alpha['chao1'][(alpha['study'].str.contains(study))&\n",
    "                                      (alpha['condition'].str.contains('control'))]\n",
    "    # calculate a pvalue\n",
    "    pval = scipy.stats.f_oneway(case,control)[1]\n",
    "    print(study+': '+pval.round(50).astype('str'))"
   ]
  },
  {
   "cell_type": "markdown",
   "id": "ba992104-80d0-44c6-ab9e-82b5a4cd6b62",
   "metadata": {},
   "source": [
    "# Beta Diversity\n",
    "Now we'll look at beta diversity among samples, by calculating Bray-Curtis dissimilarity in QIIME2"
   ]
  },
  {
   "cell_type": "code",
   "execution_count": null,
   "id": "5f2fb8b2",
   "metadata": {
    "tags": []
   },
   "outputs": [],
   "source": [
    "!qiime diversity beta \\\n",
    "    --i-table ../results/rarefied_table.qza \\\n",
    "    --p-metric braycurtis \\\n",
    "    --o-distance-matrix ../results/braycurtis.qza\n",
    "!qiime tools export \\\n",
    "  --input-path ../results/braycurtis.qza \\\n",
    "  --output-path ../results/braycurtis"
   ]
  },
  {
   "cell_type": "markdown",
   "id": "4764241c-6c2d-486e-8f8e-fb93bcd78f33",
   "metadata": {},
   "source": [
    "## Calculate PCoA\n",
    "We'll read in our dissimilarity matrix, and conduct a PCoA in SkBio "
   ]
  },
  {
   "cell_type": "code",
   "execution_count": null,
   "id": "50992117",
   "metadata": {
    "tags": []
   },
   "outputs": [],
   "source": [
    "# read the dissimilarity matrix\n",
    "dm = pd.read_csv('../results/braycurtis/distance-matrix.tsv', sep = '\\t',index_col = 0)\n",
    "\n",
    "# conduct PCoA\n",
    "od_res = skbio.stats.ordination.pcoa(dm)\n",
    "\n",
    "# examine proportion explained\n",
    "od_res.proportion_explained"
   ]
  },
  {
   "cell_type": "markdown",
   "id": "870730bd-740e-467f-8f96-80ae742bf577",
   "metadata": {},
   "source": [
    "## Add Metadata\n",
    "Now we can merge our PCoA results with corresponding metadata"
   ]
  },
  {
   "cell_type": "code",
   "execution_count": null,
   "id": "2d5094c0",
   "metadata": {
    "tags": []
   },
   "outputs": [],
   "source": [
    "# replace index with sample ids\n",
    "od_res.samples.index = dm.index\n",
    "\n",
    "# concatenate with metadata\n",
    "pcoa_results = pd.concat([od_res.samples, metadata], axis = 1, join = 'inner')\n",
    "\n",
    "# replace disease with health in control samples\n",
    "pcoa_results.loc[pcoa_results['condition'] == 'control', 'disease'] = 'Healthy'\n"
   ]
  },
  {
   "cell_type": "markdown",
   "id": "369b59d4-9121-4894-b208-11a200af1113",
   "metadata": {},
   "source": [
    "## Plot Beta Diversity\n",
    "Create plots for beta diversity, encoding metadata values as colors. "
   ]
  },
  {
   "cell_type": "code",
   "execution_count": null,
   "id": "a5eff973",
   "metadata": {
    "tags": []
   },
   "outputs": [],
   "source": [
    "plt_condition = (ggplot(\n",
    "    pcoa_results, aes(x = 'PC1', y = 'PC2', color = 'condition'))\n",
    "    +geom_point(size = 3)\n",
    "    +labs(x = 'PC1 (20.29%)', y = 'PC2 (10.07%)', color = 'Condition')\n",
    "    +theme(text = element_text(size=20),panel_background=element_rect(fill = \"white\",\n",
    "                                colour = \"white\",size = 0.5, linetype = \"solid\"),\n",
    "                                panel_grid=element_line(size = .2, linetype = \"solid\",colour = \"gray\"),\n",
    "                                axis_line = element_line(size = 2, linetype = \"solid\",colour = \"black\"),\n",
    "                                legend_position='right',\n",
    "                                figure_size=(8, 6)))\n",
    "plt_condition"
   ]
  },
  {
   "cell_type": "code",
   "execution_count": null,
   "id": "f848a8fe-9f9c-4248-9e37-5850d3755074",
   "metadata": {},
   "outputs": [],
   "source": [
    "plt_URT = (ggplot(\n",
    "    pcoa_results, aes(x = 'PC1', y = 'PC2', color = 'URT'))\n",
    "    +geom_point(size = 3)\n",
    "    +labs(x = 'PC1 (20.29%)', y = 'PC2 (10.07%)', color = 'URT Area')\n",
    "    +theme(text = element_text(size=20),panel_background=element_rect(fill = \"white\",\n",
    "                                colour = \"white\",size = 0.5, linetype = \"solid\"),\n",
    "                                panel_grid=element_line(size = .2, linetype = \"solid\",colour = \"gray\"),\n",
    "                                axis_line = element_line(size = 2, linetype = \"solid\",colour = \"black\"),\n",
    "                                legend_position='right',\n",
    "                                figure_size=(8, 6)))\n",
    "plt_URT"
   ]
  },
  {
   "cell_type": "code",
   "execution_count": null,
   "id": "0a1adfcd-2355-4b40-add2-72f805d22af4",
   "metadata": {},
   "outputs": [],
   "source": [
    "plt_region = (ggplot(\n",
    "    pcoa_results, aes(x = 'PC1', y = 'PC2', color = 'region'))\n",
    "    +geom_point(size = 3)\n",
    "    +labs(x = 'PC1 (20.29%)', y = 'PC2 (10.07%)', color = 'Geographic Region')\n",
    "    +theme(text = element_text(size=20),panel_background=element_rect(fill = \"white\",\n",
    "                                colour = \"white\",size = 0.5, linetype = \"solid\"),\n",
    "                                panel_grid=element_line(size = .2, linetype = \"solid\",colour = \"gray\"),\n",
    "                                axis_line = element_line(size = 2, linetype = \"solid\",colour = \"black\"),\n",
    "                                legend_position='right',\n",
    "                                figure_size=(8, 6)))\n",
    "plt_region"
   ]
  },
  {
   "cell_type": "code",
   "execution_count": null,
   "id": "be0be879-95b1-4304-9c0f-a9f50b7061ad",
   "metadata": {},
   "outputs": [],
   "source": [
    "plt_disease = (ggplot(\n",
    "    pcoa_results, aes(x = 'PC1', y = 'PC2', color = 'disease'))\n",
    "    +geom_point(size = 3)\n",
    "    +labs(x = 'PC1 (20.29%)', y = 'PC2 (10.07%)', color = 'Disease')\n",
    "    +scale_color_manual(values = color_dict)\n",
    "    +theme(text = element_text(size=20),panel_background=element_rect(fill = \"white\",\n",
    "                                colour = \"white\",size = 0.5, linetype = \"solid\"),\n",
    "                                panel_grid=element_line(size = .2, linetype = \"solid\",colour = \"gray\"),\n",
    "                                axis_line = element_line(size = 2, linetype = \"solid\",colour = \"black\"),\n",
    "                                legend_position='right',\n",
    "                                figure_size=(8, 6)))\n",
    "plt_disease"
   ]
  },
  {
   "cell_type": "code",
   "execution_count": null,
   "id": "5acd63db-b017-43bb-bff8-ccc9392a2db4",
   "metadata": {},
   "outputs": [],
   "source": [
    "plt_sequence = (ggplot(\n",
    "    pcoa_results, aes(x = 'PC1', y = 'PC2', color = 'sequencing'))\n",
    "    +geom_point(size = 3)\n",
    "    +labs(x = 'PC1 (20.29%)', y = 'PC2 (10.07%)', color = 'Sequencing Method')\n",
    "    +theme(text = element_text(size=20),panel_background=element_rect(fill = \"white\",\n",
    "                                colour = \"white\",size = 0.5, linetype = \"solid\"),\n",
    "                                panel_grid=element_line(size = .2, linetype = \"solid\",colour = \"gray\"),\n",
    "                                axis_line = element_line(size = 2, linetype = \"solid\",colour = \"black\"),\n",
    "                                legend_position='right',\n",
    "                                figure_size=(8, 6)))\n",
    "plt_sequence"
   ]
  },
  {
   "cell_type": "code",
   "execution_count": null,
   "id": "34834f0c-0b8e-46e0-a88e-2af6fe2b6063",
   "metadata": {},
   "outputs": [],
   "source": [
    "plt_16S = (ggplot(\n",
    "    pcoa_results, aes(x = 'PC1', y = 'PC2', color = '16S'))\n",
    "    +geom_point(size = 3)\n",
    "    +labs(x = 'PC1 (20.29%)', y = 'PC2 (10.07%)', color = 'Hypervariable Region')\n",
    "    +theme(text = element_text(size=20),panel_background=element_rect(fill = \"white\",\n",
    "                                colour = \"white\",size = 0.5, linetype = \"solid\"),\n",
    "                                panel_grid=element_line(size = .2, linetype = \"solid\",colour = \"gray\"),\n",
    "                                axis_line = element_line(size = 2, linetype = \"solid\",colour = \"black\"),\n",
    "                                legend_position='right',\n",
    "                                figure_size=(8, 6)))\n",
    "plt_16S"
   ]
  },
  {
   "cell_type": "code",
   "execution_count": null,
   "id": "9ebcd393-ee82-40a4-8118-95dc74a7b6ec",
   "metadata": {},
   "outputs": [],
   "source": [
    "ggsave(plt_condition, '../visualizations/beta_condition.svg', dpi = 300, format = 'svg')\n",
    "ggsave(plt_URT, '../visualizations/beta_urt.svg', dpi = 300, format = 'svg')\n",
    "ggsave(plt_region, '../visualizations/beta_region.svg', dpi = 300, format = 'svg')\n",
    "ggsave(plt_disease, '../visualizations/beta_disease.svg', dpi = 300, format = 'svg')\n",
    "ggsave(plt_sequence, '../visualizations/beta_sequence.svg', dpi = 300, format = 'svg')\n",
    "ggsave(plt_16S, '../visualizations/beta_16S.svg', dpi = 300, format = 'svg')"
   ]
  },
  {
   "cell_type": "markdown",
   "id": "5dab5030-39a5-4d6f-8ad9-9541d72521b5",
   "metadata": {},
   "source": [
    "## PERMANOVA\n",
    "Use PERMANOVA to calculate significance"
   ]
  },
  {
   "cell_type": "code",
   "execution_count": null,
   "id": "30d5c6fd-da40-4735-955c-903f331a1cf2",
   "metadata": {},
   "outputs": [],
   "source": [
    "dm = pd.read_csv('../results/braycurtis/distance-matrix.tsv', sep = '\\t',index_col = 0)\n",
    "dm = skbio.stats.distance.DistanceMatrix(dm)\n",
    "metadata_array= np.ascontiguousarray(pcoa_results['condition'].to_list())\n",
    "skbio.stats.distance.permanova(dm, grouping = metadata_array, permutations = 999)"
   ]
  },
  {
   "cell_type": "code",
   "execution_count": null,
   "id": "b89c337d-b3a8-412f-9c6e-7c727bae984f",
   "metadata": {},
   "outputs": [],
   "source": [
    "metadata_array= np.ascontiguousarray(pcoa_results['URT'].to_list())\n",
    "skbio.stats.distance.permanova(dm, grouping = metadata_array, permutations = 999)"
   ]
  },
  {
   "cell_type": "code",
   "execution_count": null,
   "id": "3a8a7be1-c80c-451b-a874-df2b0baf8f91",
   "metadata": {},
   "outputs": [],
   "source": [
    "metadata_array= np.ascontiguousarray(pcoa_results['region'].to_list())\n",
    "skbio.stats.distance.permanova(dm, grouping = metadata_array, permutations = 999)"
   ]
  },
  {
   "cell_type": "code",
   "execution_count": null,
   "id": "29392f4a-79b9-45da-9188-31e08057e4b0",
   "metadata": {
    "tags": []
   },
   "outputs": [],
   "source": [
    "metadata_array= np.ascontiguousarray(pcoa_results['disease'].to_list())\n",
    "skbio.stats.distance.permanova(dm, grouping = metadata_array, permutations = 999)"
   ]
  },
  {
   "cell_type": "code",
   "execution_count": null,
   "id": "55a62c87-6b52-49fd-bfdb-153fe465ccbf",
   "metadata": {},
   "outputs": [],
   "source": [
    "metadata_array= np.ascontiguousarray(pcoa_results['sequencing'].to_list())\n",
    "skbio.stats.distance.permanova(dm, grouping = metadata_array, permutations = 999)"
   ]
  },
  {
   "cell_type": "code",
   "execution_count": null,
   "id": "a884cbe0-bf3f-4cb9-a371-4c9be881f058",
   "metadata": {},
   "outputs": [],
   "source": [
    "metadata_array= np.ascontiguousarray(pcoa_results['16S'].to_list())\n",
    "skbio.stats.distance.permanova(dm, grouping = metadata_array, permutations = 999)"
   ]
  }
 ],
 "metadata": {
  "kernelspec": {
   "display_name": "Python 3 (ipykernel)",
   "language": "python",
   "name": "python3"
  },
  "language_info": {
   "codemirror_mode": {
    "name": "ipython",
    "version": 3
   },
   "file_extension": ".py",
   "mimetype": "text/x-python",
   "name": "python",
   "nbconvert_exporter": "python",
   "pygments_lexer": "ipython3",
   "version": "3.8.13"
  }
 },
 "nbformat": 4,
 "nbformat_minor": 5
}

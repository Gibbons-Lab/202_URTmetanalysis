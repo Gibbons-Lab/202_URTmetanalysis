{
 "cells": [
  {
   "cell_type": "markdown",
   "id": "0369dd84-e5c0-45ba-9518-a19e54a646ec",
   "metadata": {},
   "source": [
    "# Random Forest Classifiers / AUROC\n",
    "\n",
    "In this notebook we will train Random Forest Classifiers on case vs. control status within each study, and use AUROC to determine their success\n",
    " ____ "
   ]
  },
  {
   "cell_type": "code",
   "execution_count": null,
   "id": "865e40e5-817c-4968-9179-98a986bf735a",
   "metadata": {},
   "outputs": [],
   "source": [
    "from sklearn.model_selection import train_test_split, cross_val_score, StratifiedKFold,cross_val_predict\n",
    "from sklearn.ensemble import RandomForestClassifier\n",
    "from sklearn.metrics import roc_curve, auc,roc_auc_score\n",
    "\n",
    "import scipy.stats\n",
    "import pandas as pd\n",
    "import numpy as np\n",
    "from utils import *\n",
    "\n",
    "%matplotlib inline"
   ]
  },
  {
   "cell_type": "markdown",
   "id": "cb13adf8-887a-4ea1-8fdb-c93804f5945d",
   "metadata": {},
   "source": [
    "## Collect Reads\n",
    "First, load the merged table constructed earlier"
   ]
  },
  {
   "cell_type": "code",
   "execution_count": null,
   "id": "68f84062-6d7e-40e3-bf30-2465376f3e5f",
   "metadata": {},
   "outputs": [],
   "source": [
    "merged_table = pd.read_csv('../data/merged_table.csv')"
   ]
  },
  {
   "cell_type": "markdown",
   "id": "5d1f1771-af76-4b8f-a997-f022070d56aa",
   "metadata": {},
   "source": [
    "## Train Random Forest Classifiers, Calculate AUROC\n",
    "Iterating through each study, train an RFC with fivefold cross-validation, and calculate AUROC for each model. "
   ]
  },
  {
   "cell_type": "code",
   "execution_count": null,
   "id": "5f2572cc-8236-4866-9385-c39247e01bae",
   "metadata": {},
   "outputs": [],
   "source": [
    "# intialize dataframe\n",
    "df = pd.DataFrame({'study':[],'AUC':[]})\n",
    "\n",
    "# iterate through studies\n",
    "for study in merged_table['study'].unique():\n",
    "    res_temp = merged_table[merged_table['study'] == study].copy()\n",
    "    \n",
    "    # pivot into abundance matrix and CLR transform\n",
    "    X = pd.pivot_table(res_temp, index = 'sample_id', columns = 'genus', values = 'reads').fillna(0.0)\n",
    "    X = X.apply(clr_transform_individual, axis=1)\n",
    "\n",
    "    # add dummy variables for case and control\n",
    "    res_temp.loc[:, 'condition']= res_temp['condition'].replace({'control':0,'case':1})\n",
    "    \n",
    "    # split into testing and training groups\n",
    "    y = res_temp.drop_duplicates(subset = 'sample_id').set_index('sample_id')['condition']\n",
    "    X_train, X_test, y_train, y_test = train_test_split(X, y, test_size=0.2, random_state=42)\n",
    "    \n",
    "    # built RFC with cross-validation\n",
    "    model = RandomForestClassifier(n_estimators=100, random_state=1)\n",
    "    cv = StratifiedKFold(n_splits=5, shuffle=True, random_state=1)\n",
    "    \n",
    "    # test RFC\n",
    "    y_pred = cross_val_predict(model, X, y, cv=cv, method='predict_proba')[:, 1]\n",
    "    \n",
    "    # score using AUROC\n",
    "    auroc = roc_auc_score(y, y_pred)\n",
    "    \n",
    "    # add to dataframe\n",
    "    df = pd.concat([df, pd.DataFrame({'study':[study],'AUC':[auroc]})])"
   ]
  },
  {
   "cell_type": "markdown",
   "id": "d15a9c85-ff86-4e9c-be8c-5f99d2503f08",
   "metadata": {},
   "source": [
    "## Format Results\n",
    "Add metadata and count to the resulting dataframe"
   ]
  },
  {
   "cell_type": "code",
   "execution_count": null,
   "id": "fa48a22a-c05b-414a-b7dd-866417bdbdd7",
   "metadata": {},
   "outputs": [],
   "source": [
    "# add metadata\n",
    "df['disease'] = df['study'].map(merged_table.drop_duplicates(subset = 'study').set_index('study')['disease'].to_dict())\n",
    "df['URT'] = df['study'].str.split(',').str[-1]\n",
    "\n",
    "# add count\n",
    "df['count'] = merged_table.groupby('study')['sample_id'].nunique().reindex(df['study']).fillna(0).values\n",
    "df.sort_values(by = ['URT','disease'], inplace = True)\n",
    "df.AUC.mean()"
   ]
  },
  {
   "cell_type": "markdown",
   "id": "3c867442-fc37-4647-a7a4-e18b188fd485",
   "metadata": {},
   "source": [
    "## Specify Color Encoding\n",
    "Import the disease-specific color dictionary we've been using "
   ]
  },
  {
   "cell_type": "code",
   "execution_count": null,
   "id": "4ad36b05-b312-4831-9e3d-b35b89266a0e",
   "metadata": {},
   "outputs": [],
   "source": [
    "color_dict = {'Asthma':'#a6cee3',\n",
    "              'COVID-19':'#1f78b4', \n",
    "              'Influenza':'#b2df8a',\n",
    "              'Pneumonia':'#33a02c',\n",
    "              'RSV':'#fb9a99',\n",
    "              'RTI':'#e31a1c',\n",
    "              'Resp. Allergies':'#fdbf6f',\n",
    "              'Rhinosinusitis':'#ff7f00',\n",
    "              'COPD':'#cab2d6',\n",
    "              'Tonsillitis':'#6a3d9a'}"
   ]
  },
  {
   "cell_type": "markdown",
   "id": "30ce344d-a14a-4e18-b0d7-ecf07c8395fd",
   "metadata": {},
   "source": [
    "## Plot AUROC Results\n",
    "Plot results of AUROC by study, color encoding for disease and URT sampling site"
   ]
  },
  {
   "cell_type": "code",
   "execution_count": null,
   "id": "9a30fb5c-2751-4a65-a0ab-9433a7003e5b",
   "metadata": {},
   "outputs": [],
   "source": [
    "df['disease'] = df['disease'].astype('category')\n",
    "\n",
    "auroc = (ggplot(\n",
    "    df, aes(y = 'AUC', x = 'study'))\n",
    "    +geom_point(aes(color = 'disease'),size = 5)\n",
    "    +geom_segment(aes(xend='study', color = 'disease'), yend=0, size = 2)\n",
    "    +annotate(geom_rect, xmin=0, xmax=21.5, ymin=0.5, ymax=1.0,\n",
    "              fill = 'salmon', alpha=0.15)\n",
    "    +annotate(geom_rect, xmin=21.5, xmax=32.5, ymin=0.5, ymax=1.0,\n",
    "              fill = 'cadetblue', alpha=0.15)\n",
    "    +ylim(0.5,1.0)\n",
    "    +labs(x = '', y = 'AUROC')\n",
    "    +scale_x_discrete(limits = df['study'])\n",
    "    +scale_color_manual(color_dict, guide = None)\n",
    "    +coord_flip()\n",
    "    +theme_minimal()+theme(figure_size=(6,8),text=element_text(size=15)))\n",
    "auroc"
   ]
  },
  {
   "cell_type": "code",
   "execution_count": null,
   "id": "853123d0-3102-47a9-9599-f0cdc19e05d3",
   "metadata": {},
   "outputs": [],
   "source": [
    "count = (ggplot(df, \n",
    "        aes(x = 'study',y = 'count'))\n",
    "    +geom_col(aes(fill = 'disease'),size = 5)\n",
    "\n",
    "    +annotate(geom_rect, xmin=0, xmax=21.5, ymin=0, ymax=1200,\n",
    "              fill = 'salmon', alpha=0.15)\n",
    "    +annotate(geom_rect, xmin=21.5, xmax=32.5, ymin=0, ymax=1200,\n",
    "              fill = 'cadetblue', alpha=0.15)\n",
    "    +ylim(0,1200)\n",
    "    +labs(y = 'Sample Count', x = '')\n",
    "    +scale_x_discrete(limits = df['study'], labels = '', guide = None)\n",
    "    +scale_fill_manual(color_dict)\n",
    "    +coord_flip()\n",
    "    +theme_minimal()+theme(figure_size=(6,8),text=element_text(size=15)))\n",
    "count"
   ]
  },
  {
   "cell_type": "code",
   "execution_count": null,
   "id": "1d9bb7fc-4f3a-409f-b360-92eccf47f270",
   "metadata": {},
   "outputs": [],
   "source": [
    "ggsave(auroc, '../visualizations/auroc.svg',dpi = 300, format ='svg')\n",
    "ggsave(count, '../visualizations/count.svg',dpi = 300, format = 'svg')"
   ]
  },
  {
   "cell_type": "markdown",
   "id": "6791f316-3e0f-40b8-b6f6-462d04d2ba65",
   "metadata": {},
   "source": [
    "## Calculate Associations\n",
    "Calculate any association between AUROC and sample count, as well as AUROC between URT sampling sites"
   ]
  },
  {
   "cell_type": "code",
   "execution_count": null,
   "id": "783c6ead-77e9-4e1d-a3f8-b390dc8e67fb",
   "metadata": {},
   "outputs": [],
   "source": [
    "scipy.stats.pearsonr(df['AUC'], df['count'])"
   ]
  },
  {
   "cell_type": "code",
   "execution_count": null,
   "id": "b65782b3-f4e8-4669-a808-250b76664a01",
   "metadata": {},
   "outputs": [],
   "source": [
    "scipy.stats.ttest_ind(df[df['URT'] == ' NP']['AUC'],\n",
    "                      df[df['URT'] == ' OP']['AUC'])"
   ]
  },
  {
   "cell_type": "markdown",
   "id": "45c3c15a-71b1-4228-8eff-e258f441ff59",
   "metadata": {},
   "source": [
    "No significant associations"
   ]
  }
 ],
 "metadata": {
  "kernelspec": {
   "display_name": "Python 3 (ipykernel)",
   "language": "python",
   "name": "python3"
  },
  "language_info": {
   "codemirror_mode": {
    "name": "ipython",
    "version": 3
   },
   "file_extension": ".py",
   "mimetype": "text/x-python",
   "name": "python",
   "nbconvert_exporter": "python",
   "pygments_lexer": "ipython3",
   "version": "3.8.13"
  }
 },
 "nbformat": 4,
 "nbformat_minor": 5
}
